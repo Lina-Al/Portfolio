{
  "nbformat": 4,
  "nbformat_minor": 0,
  "metadata": {
    "colab": {
      "provenance": []
    },
    "kernelspec": {
      "name": "python3",
      "display_name": "Python 3"
    },
    "language_info": {
      "name": "python"
    }
  },
  "cells": [
    {
      "cell_type": "code",
      "source": [
        "\n",
        "%%capture\n",
        "!wget https://gist.githubusercontent.com/nzhukov/97195b28ad862043511bab41e8cd7e6c/raw/d50ed3ee6232f4104a10e737020dfa485a9b5a59/web_traffic.tsv\n"
      ],
      "metadata": {
        "id": "1_n4oWNUDsiL"
      },
      "execution_count": null,
      "outputs": []
    },
    {
      "cell_type": "code",
      "execution_count": null,
      "metadata": {
        "colab": {
          "base_uri": "https://localhost:8080/"
        },
        "id": "Ea1qW1zxlot5",
        "outputId": "77861d12-941f-4f21-dd97-31e365e1a094"
      },
      "outputs": [
        {
          "output_type": "stream",
          "name": "stdout",
          "text": [
            "<class 'pandas.core.frame.DataFrame'>\n",
            "RangeIndex: 743 entries, 0 to 742\n",
            "Data columns (total 2 columns):\n",
            " #   Column      Non-Null Count  Dtype  \n",
            "---  ------      --------------  -----  \n",
            " 0   hour        743 non-null    int64  \n",
            " 1   n_requests  735 non-null    float64\n",
            "dtypes: float64(1), int64(1)\n",
            "memory usage: 11.7 KB\n"
          ]
        }
      ],
      "source": [
        "import pandas as pd\n",
        "\n",
        "data = pd.read_csv('web_traffic.tsv', delimiter='\\t', names=['hour','n_requests'])\n",
        "\n",
        "data.info()"
      ]
    },
    {
      "cell_type": "code",
      "source": [
        "data =data.dropna()\n",
        "\n",
        "input_var = 'hour'\n",
        "target_var = 'n_requests'\n",
        "\n",
        "hours_data = data[input_var]\n",
        "requests_data = data[target_var]\n",
        "data.info()"
      ],
      "metadata": {
        "colab": {
          "base_uri": "https://localhost:8080/"
        },
        "id": "grqas-d9mYP7",
        "outputId": "aa40cdb9-4409-4e47-e50b-26c62d2cfaeb"
      },
      "execution_count": null,
      "outputs": [
        {
          "output_type": "stream",
          "name": "stdout",
          "text": [
            "<class 'pandas.core.frame.DataFrame'>\n",
            "Index: 735 entries, 0 to 742\n",
            "Data columns (total 2 columns):\n",
            " #   Column      Non-Null Count  Dtype  \n",
            "---  ------      --------------  -----  \n",
            " 0   hour        735 non-null    int64  \n",
            " 1   n_requests  735 non-null    float64\n",
            "dtypes: float64(1), int64(1)\n",
            "memory usage: 17.2 KB\n"
          ]
        }
      ]
    },
    {
      "cell_type": "code",
      "source": [
        "input_var='hour'\n",
        "target_var='n_requests'\n",
        "\n",
        "hours=data[input_var]\n",
        "requests=data[target_var]"
      ],
      "metadata": {
        "id": "c2cqrdxUmiwf"
      },
      "execution_count": null,
      "outputs": []
    },
    {
      "cell_type": "code",
      "source": [
        "%matplotlib inline"
      ],
      "metadata": {
        "id": "hKG_XoFHozVp"
      },
      "execution_count": null,
      "outputs": []
    },
    {
      "cell_type": "code",
      "source": [
        "import numpy as np\n",
        "import matplotlib.pyplot as plt\n",
        "from sklearn.metrics import r2_score, mean_squared_error, mean_absolute_error\n",
        "plt.scatter(hours,requests, s=1)\n",
        "plt.xlabel('времени, часы')\n",
        "\n",
        "plt.ylabel('запросы')\n",
        "\n",
        "plt.xticks([w*7*24 for w in range(6)],[f\"{i} неделя\" for i in range (6)])\n",
        "\n",
        "plt.autoscale(tight=False)\n",
        "plt.show()"
      ],
      "metadata": {
        "colab": {
          "base_uri": "https://localhost:8080/",
          "height": 449
        },
        "id": "CeRxhWNznOOF",
        "outputId": "872848ef-6005-463c-e8a8-e3ccbc38c413"
      },
      "execution_count": null,
      "outputs": [
        {
          "output_type": "display_data",
          "data": {
            "text/plain": [
              "<Figure size 640x480 with 1 Axes>"
            ],
            "image/png": "[encoded data removed]"
          },
          "metadata": {}
        }
      ]
    },
    {
      "cell_type": "code",
      "source": [
        "f1p, residuals, rank, sv, rcond=np.polyfit(hours, requests, 1, full = True)\n",
        "\n",
        "fx=np.poly1d(f1p)\n",
        "\n",
        "f2p, residuals, rank, sv, rcond=np.polyfit(hours, requests, 2, full = True)\n",
        "f2x=np.poly1d(f2p)\n",
        "\n",
        "\n",
        "f3p, residuals, rank, sv, rcond=np.polyfit(hours, requests, 3, full = True)\n",
        "f3x=np.poly1d(f3p)\n",
        "\n",
        "\n",
        "f5p, residuals, rank, sv, rcond=np.polyfit(hours, requests, 5, full = True)\n",
        "f5x=np.poly1d(f5p)\n",
        "\n",
        "f8p, residuals, rank, sv, rcond=np.polyfit(hours, requests, 8, full = True)\n",
        "f8x=np.poly1d(f8p)\n",
        "\n",
        "f10p, residuals, rank, sv, rcond=np.polyfit(hours, requests, 10, full = True)\n",
        "f10x=np.poly1d(f10p)\n",
        "\n",
        "f20p, residuals, rank, sv, rcond=np.polyfit(hours, requests, 20, full = True)\n",
        "f20x=np.poly1d(f20p)\n",
        "\n",
        "\n",
        "print(f2p)\n",
        "print(f2x([1]))\n",
        "print(f2x)\n",
        "\n",
        "print(f3p)\n",
        "print(f3x([1]))\n",
        "print(f3x)\n",
        "\n",
        "print(f5x)\n",
        "print(f5x([1]))\n",
        "\n",
        "print(f8x)\n",
        "print(f8x([1]))\n",
        "\n",
        "print(f10x)\n",
        "print(f10x([1]))\n",
        "\n",
        "print(f20x)\n",
        "print(f20x([1]))"
      ],
      "metadata": {
        "colab": {
          "base_uri": "https://localhost:8080/"
        },
        "id": "SpwhQQ70pNvz",
        "outputId": "1bc2ac74-0d5d-413c-8943-6d3a3db50003"
      },
      "execution_count": null,
      "outputs": [
        {
          "output_type": "stream",
          "name": "stdout",
          "text": [
            "[ 1.05322215e-02 -5.26545650e+00  1.97476082e+03]\n",
            "[1969.50589268]\n",
            "         2\n",
            "0.01053 x - 5.265 x + 1975\n",
            "[ 3.04960132e-05 -2.35893797e-02  4.94226019e+00  1.33328797e+03]\n",
            "[1338.20666682]\n",
            "          3           2\n",
            "3.05e-05 x - 0.02359 x + 4.942 x + 1333\n",
            "           5             4             3           2\n",
            "2.165e-10 x - 3.134e-07 x + 0.0001638 x - 0.03415 x + 2.248 x + 1536\n",
            "[1538.37436709]\n",
            "            8             7             6             5             4\n",
            "-2.477e-17 x + 7.602e-14 x - 9.516e-11 x + 6.258e-08 x - 2.314e-05 x\n",
            "             3          2\n",
            " + 0.004765 x - 0.5028 x + 21.86 x + 1341\n",
            "[1362.08094489]\n",
            "           10             9             8             7             6\n",
            "-3.74e-22 x  + 1.365e-18 x - 2.143e-15 x + 1.899e-12 x - 1.046e-09 x\n",
            "              5             4           3          2\n",
            " + 3.709e-07 x - 8.456e-05 x + 0.01192 x - 0.9416 x + 33.37 x + 1264\n",
            "[1296.65264082]\n",
            "           20             19             18             17\n",
            "4.831e-47 x  - 3.183e-43 x  + 8.872e-40 x  - 1.315e-36 x \n",
            "              16             15             14             13\n",
            " + 9.878e-34 x  - 8.555e-32 x  - 5.096e-28 x  + 3.803e-25 x \n",
            "              12             11             10             9\n",
            " + 4.987e-23 x  - 2.748e-19 x  + 2.355e-16 x  - 1.173e-13 x\n",
            "              8             7             6             5           4\n",
            " + 3.931e-11 x - 9.234e-09 x + 1.529e-06 x - 0.0001761 x + 0.01364 x\n",
            "           3         2\n",
            " - 0.6696 x + 18.65 x - 235.2 x + 2338\n",
            "[2121.02373369]\n"
          ]
        }
      ]
    },
    {
      "cell_type": "code",
      "source": [
        "import matplotlib.pyplot as plt\n",
        "\n",
        "plt.scatter(hours,requests, s=1)\n",
        "\n",
        "\n",
        "f1x=np.linspace(1,hours [len(hours)], len(hours))\n",
        "f1y=fx(f1x)\n",
        "#print (f1x)\n",
        "plt.plot(f1x, f1y, color='black')\n",
        "\n",
        "f0x=np.linspace(1,hours [len(hours)], len(hours))\n",
        "f2y=f2x(f0x)\n",
        "#print (f2x)\n",
        "plt.plot(f0x, f2y, color='yellow')\n",
        "\n",
        "f7x=np.linspace(1,hours [len(hours)], len(hours))\n",
        "f8y=f8x(f7x)\n",
        "#print (f2x)\n",
        "plt.plot(f7x, f8y, color='lime')\n",
        "\n",
        "\n",
        "f9x=np.linspace(1,hours [len(hours)], len(hours))\n",
        "f10y=f10x(f9x)\n",
        "#print (f2x)\n",
        "plt.plot(f9x, f10y, color='cyan')\n",
        "\n",
        "\n",
        "f19x=np.linspace(1,hours [len(hours)], len(hours))\n",
        "f20y=f10x(f19x)\n",
        "#print (f2x)\n",
        "plt.plot(f19x, f20y, color='red')\n",
        "\n",
        "plt.xlabel('времени, часы')\n",
        "\n",
        "plt.ylabel('запросы')\n",
        "\n",
        "plt.xticks([w*7*24 for w in range(6)],[f\"{i} неделя\" for i in range (6)])\n",
        "\n",
        "#plt.autoscale(tight=False)\n",
        "plt.show()"
      ],
      "metadata": {
        "colab": {
          "base_uri": "https://localhost:8080/",
          "height": 449
        },
        "id": "beiwUubXqnBI",
        "outputId": "509ea8f0-39fd-4711-88c2-3bd60c91b218"
      },
      "execution_count": null,
      "outputs": [
        {
          "output_type": "display_data",
          "data": {
            "text/plain": [
              "<Figure size 640x480 with 1 Axes>"
            ],
            "image/png": "[encoded data removed]"
          },
          "metadata": {}
        }
      ]
    },
    {
      "cell_type": "markdown",
      "source": [
        "Подсчет ошибки"
      ],
      "metadata": {
        "id": "1SMw7KSjwPlo"
      }
    },
    {
      "cell_type": "code",
      "source": [
        "f1x_mse=mean_squared_error(requests, fx(hours))\n",
        "f1x_rmse=mean_squared_error(requests, fx(hours), squared=False)\n",
        "f1x_mae=mean_absolute_error(requests, fx(hours))\n",
        "\n",
        "\n",
        "f2x_mse=mean_squared_error(requests, f2x(hours))\n",
        "f2x_rmse=mean_squared_error(requests, f2x(hours), squared=False)\n",
        "f2x_mae=mean_absolute_error(requests, f2x(hours))\n",
        "\n",
        "\n",
        "\n",
        "\n",
        "f8x_mse=mean_squared_error(requests, f8x(hours))\n",
        "f8x_rmse=mean_squared_error(requests, f8x(hours), squared=False)\n",
        "f8x_mae=mean_absolute_error(requests, f8x(hours))\n",
        "\n",
        "f10x_mse=mean_squared_error(requests, f10x(hours))\n",
        "f10x_rmse=mean_squared_error(requests, f10x(hours), squared=False)\n",
        "f10x_mae=mean_absolute_error(requests, f10x(hours))\n",
        "\n",
        "f20x_mse=mean_squared_error(requests, f20x(hours))\n",
        "f20x_rmse=mean_squared_error(requests, f20x(hours), squared=False)\n",
        "f20x_mae=mean_absolute_error(requests, f20x(hours))\n",
        "\n",
        "print(f1x_mae)\n",
        "print(f2x_rmse)\n",
        "print(f8x_rmse)\n",
        "print(f20x_rmse)\n",
        "\n",
        "# сократить числа"
      ],
      "metadata": {
        "id": "1ly4Y6s4wPA7",
        "colab": {
          "base_uri": "https://localhost:8080/"
        },
        "outputId": "588cc5bf-950b-4b4f-8146-ea72a2fb95e0"
      },
      "execution_count": null,
      "outputs": [
        {
          "output_type": "stream",
          "name": "stdout",
          "text": [
            "504.88101037565264\n",
            "494.84898799804853\n",
            "408.0375430587484\n",
            "387.78584635471515\n"
          ]
        }
      ]
    },
    {
      "cell_type": "code",
      "source": [
        "min_index_train, max_index_train=0, int(len(hours)*0.7)\n",
        "min_index_test, max_index_test=max_index_train+1, len(hours)\n",
        "\n",
        "new_min_index_train, index_train= max_index_train+1, int(min_index_test+(int(len(hours)*0.3)*0.7))\n",
        "\n",
        "\n",
        "\n",
        "\n",
        "\n",
        "\n",
        "print(max_index_train)\n",
        "\n",
        "print(max_index_test)\n",
        "\n",
        "print(new_min_index_train, index_train)\n",
        "\n",
        "\n",
        "\n",
        "\n",
        "\n"
      ],
      "metadata": {
        "colab": {
          "base_uri": "https://localhost:8080/"
        },
        "id": "9bty2q5oM1P8",
        "outputId": "94f66b38-58d9-4e71-8062-aa2bb912acb3"
      },
      "execution_count": null,
      "outputs": [
        {
          "output_type": "stream",
          "name": "stdout",
          "text": [
            "514\n",
            "735\n",
            "515 669\n"
          ]
        }
      ]
    },
    {
      "cell_type": "code",
      "source": [
        "train_hours=hours[new_min_index_train:index_train:1]\n",
        "train_requests=requests[new_min_index_train:index_train:1]\n",
        "\n",
        "print(len(train_requests))\n",
        "\n",
        "print(len(train_hours))\n",
        "\n",
        "\n",
        "f1p, residuals, rank, sv, rcond=np.polyfit(train_hours, train_requests, 1, full = True)\n",
        "\n",
        "f2p, residuals, rank, sv, rcond=np.polyfit(train_hours, train_requests, 2, full = True)\n",
        "\n",
        "f3p, residuals, rank, sv, rcond=np.polyfit(train_hours, train_requests, 3, full = True)\n",
        "\n",
        "\n",
        "f1x=np.poly1d(f1p)\n",
        "\n",
        "f2x=np.poly1d(f2p)\n",
        "\n",
        "f3x=np.poly1d(f3p)\n",
        "\n",
        "\n",
        "\n",
        "print(f1x)\n",
        "\n",
        "print(f2x)\n",
        "\n",
        "print(f3x)\n",
        "\n",
        "f1x_mae=mean_absolute_error(requests, fx(hours))"
      ],
      "metadata": {
        "colab": {
          "base_uri": "https://localhost:8080/"
        },
        "id": "K0oVgTrZ5w9o",
        "outputId": "fc38784f-bdf2-407b-95fe-008cb9497207"
      },
      "execution_count": null,
      "outputs": [
        {
          "output_type": "stream",
          "name": "stdout",
          "text": [
            "154\n",
            "154\n",
            " \n",
            "5.981 x - 1274\n",
            "         2\n",
            "0.09327 x - 106 x + 3.217e+04\n",
            "          3         2\n",
            "0.001216 x - 2.097 x + 1205 x - 2.285e+05\n"
          ]
        }
      ]
    },
    {
      "cell_type": "code",
      "source": [
        "from sklearn.metrics import r2_score, mean_squared_error\n",
        "fx_1 = np.poly1d(f1p)\n",
        "r2_array_1 = []  # здесь будут храниться значения точности\n",
        "r2_array_1.append(r2_score(requests_data_2, fx_1(hours_data_2)))\n",
        "rmse = mean_squared_error(requests_data_2,fx_1(hours_data_2), squared=False)\n",
        "mse = mean_squared_error(requests_data_2,fx_1(hours_data_2), squared=True)\n",
        "print(r2_array_1, mse, rmse)\n",
        "\n",
        "fx_2 = np.poly1d(f2p)\n",
        "r2_array_1 = []  # здесь будут храниться значения точности\n",
        "r2_array_1.append(r2_score(requests_data_2, fx_2(hours_data_2)))\n",
        "rmse = mean_squared_error(requests_data_2,fx_2(hours_data_2), squared=False)\n",
        "mse = mean_squared_error(requests_data_2,fx_2(hours_data_2), squared=True)\n",
        "print(r2_array_1, mse, rmse)\n",
        "\n",
        "fx_3 = np.poly1d(f3p)\n",
        "r2_array_1 = []  # здесь будут храниться значения точности\n",
        "r2_array_1.append(r2_score(requests_data_2, fx_3(hours_data_2)))\n",
        "rmse = mean_squared_error(requests_data_2,fx_3(hours_data_2), squared=False)\n",
        "mse = mean_squared_error(requests_data_2,fx_3(hours_data_2), squared=True)\n",
        "print(r2_array_1, mse, rmse)\n",
        "\n",
        "\n",
        "def mean_squared_error(Y, _Y):\n",
        "  pass"
      ],
      "metadata": {
        "id": "BRzz-6F90opN",
        "colab": {
          "base_uri": "https://localhost:8080/",
          "height": 219
        },
        "outputId": "cbc873d9-0dad-4ff0-a7eb-d3ce8c8e5f21"
      },
      "execution_count": null,
      "outputs": [
        {
          "output_type": "error",
          "ename": "NameError",
          "evalue": "name 'np' is not defined",
          "traceback": [
            "\u001b[0;31m---------------------------------------------------------------------------\u001b[0m",
            "\u001b[0;31mNameError\u001b[0m                                 Traceback (most recent call last)",
            "\u001b[0;32m<ipython-input-1-cd810ab8e30e>\u001b[0m in \u001b[0;36m<cell line: 2>\u001b[0;34m()\u001b[0m\n\u001b[1;32m      1\u001b[0m \u001b[0;32mfrom\u001b[0m \u001b[0msklearn\u001b[0m\u001b[0;34m.\u001b[0m\u001b[0mmetrics\u001b[0m \u001b[0;32mimport\u001b[0m \u001b[0mr2_score\u001b[0m\u001b[0;34m,\u001b[0m \u001b[0mmean_squared_error\u001b[0m\u001b[0;34m\u001b[0m\u001b[0;34m\u001b[0m\u001b[0m\n\u001b[0;32m----> 2\u001b[0;31m \u001b[0mfx_1\u001b[0m \u001b[0;34m=\u001b[0m \u001b[0mnp\u001b[0m\u001b[0;34m.\u001b[0m\u001b[0mpoly1d\u001b[0m\u001b[0;34m(\u001b[0m\u001b[0mf1p\u001b[0m\u001b[0;34m)\u001b[0m\u001b[0;34m\u001b[0m\u001b[0;34m\u001b[0m\u001b[0m\n\u001b[0m\u001b[1;32m      3\u001b[0m \u001b[0mr2_array_1\u001b[0m \u001b[0;34m=\u001b[0m \u001b[0;34m[\u001b[0m\u001b[0;34m]\u001b[0m  \u001b[0;31m# здесь будут храниться значения точности\u001b[0m\u001b[0;34m\u001b[0m\u001b[0;34m\u001b[0m\u001b[0m\n\u001b[1;32m      4\u001b[0m \u001b[0mr2_array_1\u001b[0m\u001b[0;34m.\u001b[0m\u001b[0mappend\u001b[0m\u001b[0;34m(\u001b[0m\u001b[0mr2_score\u001b[0m\u001b[0;34m(\u001b[0m\u001b[0mrequests_data_2\u001b[0m\u001b[0;34m,\u001b[0m \u001b[0mfx_1\u001b[0m\u001b[0;34m(\u001b[0m\u001b[0mhours_data_2\u001b[0m\u001b[0;34m)\u001b[0m\u001b[0;34m)\u001b[0m\u001b[0;34m)\u001b[0m\u001b[0;34m\u001b[0m\u001b[0;34m\u001b[0m\u001b[0m\n\u001b[1;32m      5\u001b[0m \u001b[0mrmse\u001b[0m \u001b[0;34m=\u001b[0m \u001b[0mmean_squared_error\u001b[0m\u001b[0;34m(\u001b[0m\u001b[0mrequests_data_2\u001b[0m\u001b[0;34m,\u001b[0m\u001b[0mfx_1\u001b[0m\u001b[0;34m(\u001b[0m\u001b[0mhours_data_2\u001b[0m\u001b[0;34m)\u001b[0m\u001b[0;34m,\u001b[0m \u001b[0msquared\u001b[0m\u001b[0;34m=\u001b[0m\u001b[0;32mFalse\u001b[0m\u001b[0;34m)\u001b[0m\u001b[0;34m\u001b[0m\u001b[0;34m\u001b[0m\u001b[0m\n",
            "\u001b[0;31mNameError\u001b[0m: name 'np' is not defined"
          ]
        }
      ]
    },
    {
      "cell_type": "code",
      "source": [
        "train_hours=hours[min_index_train:max_index_train:1]\n",
        "train_requests=requests[min_index_train:max_index_train:1]\n",
        "\n",
        "f1p, residuals, rank, sv, rcond=np.polyfit(train_hours, train_requests, 1, full = True)\n",
        "f1x=np.poly1d(f1p)\n",
        "\n",
        "f2x=np.poly1d(f2p)\n",
        "\n",
        "f3x=np.poly1d(f3p)\n",
        "\n",
        "print(len(train_requests))\n",
        "\n",
        "\n",
        "print(f1x)\n",
        "\n",
        "print(f2x)\n",
        "\n",
        "print(f3x)\n",
        "\n",
        "f1x_mae=mean_absolute_error(requests, fx(hours))\n"
      ],
      "metadata": {
        "colab": {
          "base_uri": "https://localhost:8080/"
        },
        "id": "kHYHn_qnOFgr",
        "outputId": "8abe813c-31ac-4f77-a790-836ee9e7ba15"
      },
      "execution_count": null,
      "outputs": [
        {
          "output_type": "stream",
          "name": "stdout",
          "text": [
            "514\n",
            " \n",
            "0.3285 x + 1496\n",
            "         2\n",
            "0.09327 x - 106 x + 3.217e+04\n",
            "          3         2\n",
            "0.001216 x - 2.097 x + 1205 x - 2.285e+05\n"
          ]
        }
      ]
    },
    {
      "cell_type": "markdown",
      "source": [],
      "metadata": {
        "id": "DM1ZYhUw_b-y"
      }
    },
    {
      "cell_type": "markdown",
      "source": [
        "![Средняя квадратичная ошибка](https://i2.wp.com/miro.medium.com/1*NP0FvaTh_V00SS6HGty27w.png)"
      ],
      "metadata": {
        "id": "YDX-Kqy5Tf1Z"
      }
    },
    {
      "cell_type": "code",
      "source": [
        "train_border = 3.5\n",
        "final_border = 4.2\n",
        "\n",
        "train_data  = int(train_border * 7 * 24) # 588\n",
        "final_border = int(final_border * 7 * 24)\n",
        "\n",
        "# print(divider)\n",
        "# train set\n",
        "hours_data_1, requests_data_1 = hours_data[train_data:final_border], requests_data[train_data:final_border]\n",
        "# test set\n",
        "hours_data_2, requests_data_2 = hours_data[final_border:], requests_data[final_border:]\n",
        "\n",
        "\n",
        "\n",
        "print(train_data)\n",
        "print(final_border)\n",
        "\n",
        "print(requests_data_1.shape)\n",
        "print(requests_data_2.shape)\n",
        "\n",
        "# print(588+84)"
      ],
      "metadata": {
        "colab": {
          "base_uri": "https://localhost:8080/"
        },
        "id": "pluW0F5S_h9w",
        "outputId": "8820d193-d44d-4362-ef95-d6405c64403c"
      },
      "execution_count": null,
      "outputs": [
        {
          "output_type": "stream",
          "name": "stdout",
          "text": [
            "588\n",
            "705\n",
            "(117,)\n",
            "(30,)\n"
          ]
        }
      ]
    },
    {
      "cell_type": "code",
      "source": [
        "f2p_1, residuals_1, rank_1, sv_1, rcond_1 = np.polyfit(hours_data_1, requests_data_1, 1, full=True)\n",
        "\n",
        "f2p_2, residuals_2, rank_2, sv_2, rcond_2 = np.polyfit(hours_data_1, requests_data_1, 2, full=True)\n",
        "\n",
        "f2p_3, residuals_3, rank_3, sv_3, rcond_3 = np.polyfit(hours_data_1, requests_data_1, 3, full=True)"
      ],
      "metadata": {
        "id": "AEBalBqbM7oL"
      },
      "execution_count": null,
      "outputs": []
    },
    {
      "cell_type": "code",
      "source": [
        "from sklearn.metrics import r2_score, mean_squared_error\n",
        "fx_1 = np.poly1d(f2p_1)\n",
        "r2_array_1 = []  # здесь будут храниться значения точности\n",
        "r2_array_1.append(r2_score(requests_data_2, fx_1(hours_data_2)))\n",
        "rmse = mean_squared_error(requests_data_2,fx_1(hours_data_2), squared=False)\n",
        "mse = mean_squared_error(requests_data_2,fx_1(hours_data_2), squared=True)\n",
        "print(r2_array_1, mse, rmse)\n",
        "\n",
        "fx_2 = np.poly1d(f2p_2)\n",
        "r2_array_2 = []  # здесь будут храниться значения точности\n",
        "r2_array_2.append(r2_score(requests_data_2, fx_2(hours_data_2)))\n",
        "rmse = mean_squared_error(requests_data_2,fx_2(hours_data_2), squared=False)\n",
        "mse = mean_squared_error(requests_data_2,fx_2(hours_data_2), squared=True)\n",
        "print(r2_array_2, mse, rmse)\n",
        "\n",
        "fx_3 = np.poly1d(f2p_3)\n",
        "r2_array_3 = []  # здесь будут храниться значения точности\n",
        "r2_array_3.append(r2_score(requests_data_2, fx_3(hours_data_2)))\n",
        "rmse = mean_squared_error(requests_data_2,fx_3(hours_data_2), squared=False)\n",
        "mse = mean_squared_error(requests_data_2,fx_3(hours_data_2), squared=True)\n",
        "print(r2_array_3, mse, rmse)\n"
      ],
      "metadata": {
        "id": "RQFp77mnM-07",
        "colab": {
          "base_uri": "https://localhost:8080/"
        },
        "outputId": "0f14497c-4625-4b29-adcc-55b96786eb74"
      },
      "execution_count": null,
      "outputs": [
        {
          "output_type": "stream",
          "name": "stdout",
          "text": [
            "[-1.2764759423228256] 955910.7277024637 977.7068720748892\n",
            "[-0.01827650721187335] 427582.5713396405 653.8979823639468\n",
            "[0.444750208019569] 233153.8949482943 482.86011944277845\n"
          ]
        }
      ]
    },
    {
      "cell_type": "code",
      "source": [
        "import matplotlib.pyplot as plt\n",
        "\n",
        "plt.scatter(hours_data, requests_data, s=2)\n",
        "plt.xlabel('время')\n",
        "\n",
        "plt.xticks([w*7*24 for w in range(6)],[\"%i неделя\" %w for w in range(6)])\n",
        "\n",
        "# отобразим модель #1\n",
        "f2x = np.linspace(0, hours_data[len(hours_data)], len(hours_data))\n",
        "f2y = fx(f2x)\n",
        "plt.plot(f2x, f2y, linewidth=1.0, color='red')\n",
        "\n",
        "f2x = np.linspace(0, hours_data[len(hours_data)], len(hours_data))\n",
        "f2y = fx_2(f2x)\n",
        "plt.plot(f2x, f2y, linewidth=1.0, color='black')\n",
        "\n",
        "\n",
        "f2x = np.linspace(0, hours_data[len(hours_data)], len(hours_data))\n",
        "f2y = fx_3(f2x)\n",
        "plt.plot(f2x, f2y, linewidth=1.0, color='yellow')\n",
        "\n",
        "\n",
        "\n",
        "plt.autoscale(tight=False)\n",
        "\n",
        "plt.show()"
      ],
      "metadata": {
        "id": "Sl_tfzd-NDqN",
        "colab": {
          "base_uri": "https://localhost:8080/",
          "height": 450
        },
        "outputId": "b7c350f0-c321-437f-c876-8f39db39a3cf"
      },
      "execution_count": null,
      "outputs": [
        {
          "output_type": "display_data",
          "data": {
            "text/plain": [
              "<Figure size 640x480 with 1 Axes>"
            ],
            "image/png": "[encoded data removed]"
          },
          "metadata": {}
        }
      ]
    },
    {
      "cell_type": "code",
      "source": [
        "divider = int(3.5*7*24)\n",
        "divider2 = int(4.1*7*24)\n",
        "\n",
        "hours_data_1, requests_data_1 = hours_data[:divider], requests_data[:divider]\n",
        "hours_data_2, requests_data_2 = hours_data[divider:divider2], requests_data[divider:divider2]\n",
        "\n",
        "hours_data_test, requests_data_test = hours_data[divider2:], requests_data[divider2:]\n",
        "\n",
        "\n",
        "\n",
        "print(requests_data_1.shape, requests_data_2.shape, requests_data_test.shape)"
      ],
      "metadata": {
        "id": "rKBvURmcOwoq",
        "colab": {
          "base_uri": "https://localhost:8080/"
        },
        "outputId": "b5e90b62-17bc-4578-9c27-347b5cf35f21"
      },
      "execution_count": null,
      "outputs": [
        {
          "output_type": "stream",
          "name": "stdout",
          "text": [
            "(588,) (100,) (47,)\n"
          ]
        }
      ]
    },
    {
      "cell_type": "code",
      "source": [
        "f20p, residuals, rank, sv, rcond = np.polyfit(hours_data_2, requests_data_2, 20, full=True)\n",
        "f20 = np.poly1d(f20p)\n",
        "rmse_1 = mean_squared_error(requests_data_2,f20(hours_data_2), squared=False)\n",
        "rmse_2 = mean_squared_error(requests_data_test,f20(hours_data_test), squared=False)\n",
        "print(f\"RMSE (для данных c 3.5 недели по 4.1 недели)= {rmse:.5}\")\n",
        "print(f\"RMSE (только для данных с 3.5 недели)= {rmse_2:.5}\")\n",
        "\n",
        "fp, residuals, rank, sv, rcond = np.polyfit(hours_data_2, requests_data_2, 1, full=True)\n",
        "f = np.poly1d(fp)\n",
        "rmse_1 = mean_squared_error(requests_data_2,f(hours_data_2), squared=False)\n",
        "rmse_2 = mean_squared_error(requests_data_test,f(hours_data_test), squared=False)\n",
        "\n",
        "print(f\"RMSE (только для данных с 3.5 недели)= {rmse_2:.5}\")\n",
        "\n",
        "\n",
        "f2p, residuals, rank, sv, rcond = np.polyfit(hours_data_2, requests_data_2, 2, full=True)\n",
        "f2 = np.poly1d(f2p)\n",
        "rmse_1 = mean_squared_error(requests_data_2,f2(hours_data_2), squared=False)\n",
        "rmse_2 = mean_squared_error(requests_data_test,f2(hours_data_test), squared=False)\n",
        "\n",
        "print(f\"RMSE (только для данных с 3.5 недели)= {rmse_2:.5}\")\n",
        "\n",
        "f3p, residuals, rank, sv, rcond = np.polyfit(hours_data_2, requests_data_2, 3, full=True)\n",
        "f3 = np.poly1d(f3p)\n",
        "rmse_1 = mean_squared_error(requests_data_2,f3(hours_data_2), squared=False)\n",
        "rmse_2 = mean_squared_error(requests_data_test,f3(hours_data_test), squared=False)\n",
        "\n",
        "print(f\"RMSE (только для данных с 3.5 недели)= {rmse_2:.5}\")"
      ],
      "metadata": {
        "id": "LKGuKOp2Ozkc",
        "colab": {
          "base_uri": "https://localhost:8080/"
        },
        "outputId": "d5f8c133-addd-454d-8c1a-fd63bdc4b9d1"
      },
      "execution_count": null,
      "outputs": [
        {
          "output_type": "stream",
          "name": "stdout",
          "text": [
            "RMSE (для данных c 3.5 недели по 4.1 недели)= 507.95\n",
            "RMSE (только для данных с 3.5 недели)= 4.6657e+06\n",
            "RMSE (только для данных с 3.5 недели)= 498.32\n",
            "RMSE (только для данных с 3.5 недели)= 722.12\n",
            "RMSE (только для данных с 3.5 недели)= 1797.7\n"
          ]
        }
      ]
    }
  ]
}